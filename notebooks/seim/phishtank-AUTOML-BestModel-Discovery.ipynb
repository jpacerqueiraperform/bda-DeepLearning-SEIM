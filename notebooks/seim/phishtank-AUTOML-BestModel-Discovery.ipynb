{
 "cells": [
  {
   "cell_type": "code",
   "execution_count": 1,
   "metadata": {},
   "outputs": [
    {
     "name": "stdout",
     "output_type": "stream",
     "text": [
      "Checking whether there is an H2O instance running at http://localhost:54321. connected.\n"
     ]
    },
    {
     "data": {
      "text/html": [
       "<div style=\"overflow:auto\"><table style=\"width:50%\"><tr><td>H2O cluster uptime:</td>\n",
       "<td>1 day 5 hours 34 mins</td></tr>\n",
       "<tr><td>H2O cluster timezone:</td>\n",
       "<td>America/New_York</td></tr>\n",
       "<tr><td>H2O data parsing timezone:</td>\n",
       "<td>UTC</td></tr>\n",
       "<tr><td>H2O cluster version:</td>\n",
       "<td>3.22.0.1</td></tr>\n",
       "<tr><td>H2O cluster version age:</td>\n",
       "<td>11 days </td></tr>\n",
       "<tr><td>H2O cluster name:</td>\n",
       "<td>H2O_from_python_oracle_ovyy7e</td></tr>\n",
       "<tr><td>H2O cluster total nodes:</td>\n",
       "<td>1</td></tr>\n",
       "<tr><td>H2O cluster free memory:</td>\n",
       "<td>6.245 Gb</td></tr>\n",
       "<tr><td>H2O cluster total cores:</td>\n",
       "<td>12</td></tr>\n",
       "<tr><td>H2O cluster allowed cores:</td>\n",
       "<td>12</td></tr>\n",
       "<tr><td>H2O cluster status:</td>\n",
       "<td>locked, healthy</td></tr>\n",
       "<tr><td>H2O connection url:</td>\n",
       "<td>http://localhost:54321</td></tr>\n",
       "<tr><td>H2O connection proxy:</td>\n",
       "<td>None</td></tr>\n",
       "<tr><td>H2O internal security:</td>\n",
       "<td>False</td></tr>\n",
       "<tr><td>H2O API Extensions:</td>\n",
       "<td>XGBoost, Algos, AutoML, Core V3, Core V4</td></tr>\n",
       "<tr><td>Python version:</td>\n",
       "<td>3.6.4 final</td></tr></table></div>"
      ],
      "text/plain": [
       "--------------------------  ----------------------------------------\n",
       "H2O cluster uptime:         1 day 5 hours 34 mins\n",
       "H2O cluster timezone:       America/New_York\n",
       "H2O data parsing timezone:  UTC\n",
       "H2O cluster version:        3.22.0.1\n",
       "H2O cluster version age:    11 days\n",
       "H2O cluster name:           H2O_from_python_oracle_ovyy7e\n",
       "H2O cluster total nodes:    1\n",
       "H2O cluster free memory:    6.245 Gb\n",
       "H2O cluster total cores:    12\n",
       "H2O cluster allowed cores:  12\n",
       "H2O cluster status:         locked, healthy\n",
       "H2O connection url:         http://localhost:54321\n",
       "H2O connection proxy:\n",
       "H2O internal security:      False\n",
       "H2O API Extensions:         XGBoost, Algos, AutoML, Core V3, Core V4\n",
       "Python version:             3.6.4 final\n",
       "--------------------------  ----------------------------------------"
      ]
     },
     "metadata": {},
     "output_type": "display_data"
    }
   ],
   "source": [
    "import h2o\n",
    "from h2o.automl import H2OAutoML\n",
    "\n",
    "h2o.init()"
   ]
  },
  {
   "cell_type": "code",
   "execution_count": 3,
   "metadata": {},
   "outputs": [
    {
     "name": "stdout",
     "output_type": "stream",
     "text": [
      "Parse progress: |█████████████████████████████████████████████████████████| 100%\n",
      "Parse progress: |█████████████████████████████████████████████████████████| 100%\n"
     ]
    }
   ],
   "source": [
    "import pandas as pd\n",
    "from pandas import DataFrame\n",
    "\n",
    "#from typing import Set, Any\n",
    "#def remove_others(df: DataFrame, columns: Set[Any]):\n",
    "#    cols_total: Set[Any] = set(df.columns)\n",
    "#    diff: Set[Any] = cols_total - columns\n",
    "#    df.drop(diff, axis=1, inplace=True)\n",
    "    \n",
    "### From Phishtank Import Malware urls\n",
    "\n",
    "phishtank_trainpd=pd.read_csv(\"/home/oracle/notebooks/seim/online-valid.csv\")\n",
    "phishtank_trainds=phishtank_trainpd.drop(columns=['phish_id','phish_detail_url','submission_time','verification_time','online','target'])\n",
    "phishtank_trainds.head(3)\n",
    "train=h2o.H2OFrame(phishtank_trainds)\n",
    "\n",
    "### From Commom Crawl Import global urls :: Asume as verified=0 \n",
    "#ccrawl_trainpd=pd.read_json(\"/home/oracle/notebooks/seim/tail-CC-MAIN-2018-43-index-.com.json\")\n",
    "#ccrawl_trainpd.head(2)\n",
    "#ccrawl_trainds=remove_others(ccrawl_trainpd, {\"url\"})\n",
    "#ccrawl_trainds.head(3)\n",
    "\n",
    "phishtank_testpd=pd.read_csv(\"/home/oracle/notebooks/seim/online-valid.csv\")\n",
    "phishtank_testds=phishtank_testpd.drop(columns=['phish_id','phish_detail_url','submission_time','verification_time','online','target']).head(5000)\n",
    "phishtank_testds.head(3)\n",
    "test=h2o.H2OFrame(phishtank_testds)"
   ]
  },
  {
   "cell_type": "code",
   "execution_count": 5,
   "metadata": {},
   "outputs": [
    {
     "name": "stdout",
     "output_type": "stream",
     "text": [
      "Rows:23849\n",
      "Cols:1\n",
      "\n",
      "\n"
     ]
    },
    {
     "data": {
      "text/html": [
       "<table>\n",
       "<thead>\n",
       "<tr><th>       </th><th>verified  </th></tr>\n",
       "</thead>\n",
       "<tbody>\n",
       "<tr><td>type   </td><td>int       </td></tr>\n",
       "<tr><td>mins   </td><td>1.0       </td></tr>\n",
       "<tr><td>mean   </td><td>1.0       </td></tr>\n",
       "<tr><td>maxs   </td><td>1.0       </td></tr>\n",
       "<tr><td>sigma  </td><td>0.0       </td></tr>\n",
       "<tr><td>zeros  </td><td>0         </td></tr>\n",
       "<tr><td>missing</td><td>0         </td></tr>\n",
       "<tr><td>0      </td><td>1.0       </td></tr>\n",
       "<tr><td>1      </td><td>1.0       </td></tr>\n",
       "<tr><td>2      </td><td>1.0       </td></tr>\n",
       "<tr><td>3      </td><td>1.0       </td></tr>\n",
       "<tr><td>4      </td><td>1.0       </td></tr>\n",
       "<tr><td>5      </td><td>1.0       </td></tr>\n",
       "<tr><td>6      </td><td>1.0       </td></tr>\n",
       "<tr><td>7      </td><td>1.0       </td></tr>\n",
       "<tr><td>8      </td><td>1.0       </td></tr>\n",
       "<tr><td>9      </td><td>1.0       </td></tr>\n",
       "</tbody>\n",
       "</table>"
      ]
     },
     "metadata": {},
     "output_type": "display_data"
    },
    {
     "name": "stdout",
     "output_type": "stream",
     "text": [
      "Rows:5000\n",
      "Cols:1\n",
      "\n",
      "\n"
     ]
    },
    {
     "data": {
      "text/html": [
       "<table>\n",
       "<thead>\n",
       "<tr><th>       </th><th>verified  </th></tr>\n",
       "</thead>\n",
       "<tbody>\n",
       "<tr><td>type   </td><td>int       </td></tr>\n",
       "<tr><td>mins   </td><td>1.0       </td></tr>\n",
       "<tr><td>mean   </td><td>1.0       </td></tr>\n",
       "<tr><td>maxs   </td><td>1.0       </td></tr>\n",
       "<tr><td>sigma  </td><td>0.0       </td></tr>\n",
       "<tr><td>zeros  </td><td>0         </td></tr>\n",
       "<tr><td>missing</td><td>0         </td></tr>\n",
       "<tr><td>0      </td><td>1.0       </td></tr>\n",
       "<tr><td>1      </td><td>1.0       </td></tr>\n",
       "<tr><td>2      </td><td>1.0       </td></tr>\n",
       "<tr><td>3      </td><td>1.0       </td></tr>\n",
       "<tr><td>4      </td><td>1.0       </td></tr>\n",
       "<tr><td>5      </td><td>1.0       </td></tr>\n",
       "<tr><td>6      </td><td>1.0       </td></tr>\n",
       "<tr><td>7      </td><td>1.0       </td></tr>\n",
       "<tr><td>8      </td><td>1.0       </td></tr>\n",
       "<tr><td>9      </td><td>1.0       </td></tr>\n",
       "</tbody>\n",
       "</table>"
      ]
     },
     "metadata": {},
     "output_type": "display_data"
    }
   ],
   "source": [
    "# Import a sample binary outcome train/test set into H2O\n",
    "#train = h2o.import_file(\"/home/oracle/notebooks/seim/online-valid.csv\")\n",
    "#test = h2o.import_file(\"/home/oracle/notebooks/seim/online-valid.csv\").head(2000)\n",
    "\n",
    "train.head()\n",
    "train['verified'].describe()\n",
    "test.head()\n",
    "test['verified'].describe()\n"
   ]
  },
  {
   "cell_type": "code",
   "execution_count": 6,
   "metadata": {},
   "outputs": [
    {
     "name": "stdout",
     "output_type": "stream",
     "text": [
      "AutoML progress: |████████████████████████████████████████████████████████| 100%\n",
      "This H2OFrame is empty.\n"
     ]
    },
    {
     "data": {
      "text/plain": []
     },
     "execution_count": 6,
     "metadata": {},
     "output_type": "execute_result"
    }
   ],
   "source": [
    "# Identify predictors and response\n",
    "x = train.columns\n",
    "y = \"verified\"\n",
    "x.remove(y)\n",
    "\n",
    "# For binary classification, response should be a factor\n",
    "train[y] = train[y].asfactor()\n",
    "test[y] = test[y].asfactor()\n",
    "\n",
    "# Run AutoML for 20 base models (limited to 1 hour max runtime by default)\n",
    "aml = H2OAutoML(max_models=20, seed=1999)\n",
    "aml.train(x=x, y=y, training_frame=train)\n",
    "\n",
    "# View the AutoML Leaderboard\n",
    "lb = aml.leaderboard\n",
    "lb.head(rows=lb.nrows)  # Print all rows instead of default (10 rows)"
   ]
  },
  {
   "cell_type": "code",
   "execution_count": null,
   "metadata": {},
   "outputs": [],
   "source": []
  }
 ],
 "metadata": {
  "kernelspec": {
   "display_name": "Python 3",
   "language": "python",
   "name": "python3"
  },
  "language_info": {
   "codemirror_mode": {
    "name": "ipython",
    "version": 3
   },
   "file_extension": ".py",
   "mimetype": "text/x-python",
   "name": "python",
   "nbconvert_exporter": "python",
   "pygments_lexer": "ipython3",
   "version": "3.6.4"
  }
 },
 "nbformat": 4,
 "nbformat_minor": 2
}
