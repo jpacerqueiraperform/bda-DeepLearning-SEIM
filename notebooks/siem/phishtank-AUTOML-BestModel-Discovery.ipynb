{
 "cells": [
  {
   "cell_type": "code",
   "execution_count": 1,
   "metadata": {},
   "outputs": [
    {
     "name": "stdout",
     "output_type": "stream",
     "text": [
      "Checking whether there is an H2O instance running at http://localhost:54321..... not found.\n",
      "Attempting to start a local H2O server...\n",
      "  Java Version: java version \"1.8.0_172\"; Java(TM) SE Runtime Environment (build 1.8.0_172-b11); Java HotSpot(TM) 64-Bit Server VM (build 25.172-b11, mixed mode)\n",
      "  Starting server from /opt/cloudera/parcels/Anaconda-5.1.0.1/lib/python3.6/site-packages/h2o/backend/bin/h2o.jar\n",
      "  Ice root: /tmp/tmphn_p909m\n",
      "  JVM stdout: /tmp/tmphn_p909m/h2o_siemanalyst_started_from_python.out\n",
      "  JVM stderr: /tmp/tmphn_p909m/h2o_siemanalyst_started_from_python.err\n",
      "  Server is running at http://127.0.0.1:54321\n",
      "Connecting to H2O server at http://127.0.0.1:54321... successful.\n"
     ]
    },
    {
     "data": {
      "text/html": [
       "<div style=\"overflow:auto\"><table style=\"width:50%\"><tr><td>H2O cluster uptime:</td>\n",
       "<td>01 secs</td></tr>\n",
       "<tr><td>H2O cluster timezone:</td>\n",
       "<td>UTC</td></tr>\n",
       "<tr><td>H2O data parsing timezone:</td>\n",
       "<td>UTC</td></tr>\n",
       "<tr><td>H2O cluster version:</td>\n",
       "<td>3.22.0.1</td></tr>\n",
       "<tr><td>H2O cluster version age:</td>\n",
       "<td>16 days </td></tr>\n",
       "<tr><td>H2O cluster name:</td>\n",
       "<td>H2O_from_python_siemanalyst_woo8vh</td></tr>\n",
       "<tr><td>H2O cluster total nodes:</td>\n",
       "<td>1</td></tr>\n",
       "<tr><td>H2O cluster free memory:</td>\n",
       "<td>5.176 Gb</td></tr>\n",
       "<tr><td>H2O cluster total cores:</td>\n",
       "<td>12</td></tr>\n",
       "<tr><td>H2O cluster allowed cores:</td>\n",
       "<td>12</td></tr>\n",
       "<tr><td>H2O cluster status:</td>\n",
       "<td>accepting new members, healthy</td></tr>\n",
       "<tr><td>H2O connection url:</td>\n",
       "<td>http://127.0.0.1:54321</td></tr>\n",
       "<tr><td>H2O connection proxy:</td>\n",
       "<td>None</td></tr>\n",
       "<tr><td>H2O internal security:</td>\n",
       "<td>False</td></tr>\n",
       "<tr><td>H2O API Extensions:</td>\n",
       "<td>XGBoost, Algos, AutoML, Core V3, Core V4</td></tr>\n",
       "<tr><td>Python version:</td>\n",
       "<td>3.6.4 final</td></tr></table></div>"
      ],
      "text/plain": [
       "--------------------------  ----------------------------------------\n",
       "H2O cluster uptime:         01 secs\n",
       "H2O cluster timezone:       UTC\n",
       "H2O data parsing timezone:  UTC\n",
       "H2O cluster version:        3.22.0.1\n",
       "H2O cluster version age:    16 days\n",
       "H2O cluster name:           H2O_from_python_siemanalyst_woo8vh\n",
       "H2O cluster total nodes:    1\n",
       "H2O cluster free memory:    5.176 Gb\n",
       "H2O cluster total cores:    12\n",
       "H2O cluster allowed cores:  12\n",
       "H2O cluster status:         accepting new members, healthy\n",
       "H2O connection url:         http://127.0.0.1:54321\n",
       "H2O connection proxy:\n",
       "H2O internal security:      False\n",
       "H2O API Extensions:         XGBoost, Algos, AutoML, Core V3, Core V4\n",
       "Python version:             3.6.4 final\n",
       "--------------------------  ----------------------------------------"
      ]
     },
     "metadata": {},
     "output_type": "display_data"
    }
   ],
   "source": [
    "import findspark\n",
    "findspark.init()\n",
    "import pyspark\n",
    "from pyspark.sql import functions as pfunc\n",
    "from pyspark.sql import SQLContext\n",
    "from pyspark.sql import Window, types\n",
    "\n",
    "sc = pyspark.SparkContext(appName=\"phishtank-AUTOML-BestModel-Discovery\")\n",
    "sqlContext = SQLContext(sc)\n",
    "\n",
    "import h2o\n",
    "from h2o.automl import H2OAutoML\n",
    "import subprocess\n",
    "subprocess.run('unset http_proxy', shell=True)\n",
    "h2o.init()\n"
   ]
  },
  {
   "cell_type": "code",
   "execution_count": 4,
   "metadata": {},
   "outputs": [
    {
     "name": "stdout",
     "output_type": "stream",
     "text": [
      "root\n",
      " |-- url: string (nullable = true)\n",
      " |-- verified: integer (nullable = false)\n",
      " |-- url_length: integer (nullable = true)\n",
      " |-- massiveurl: integer (nullable = true)\n",
      "\n",
      "Parse progress: |█████████████████████████████████████████████████████████| 100%\n",
      "Parse progress: |█████████████████████████████████████████████████████████| 100%\n",
      "Parse progress: |█████████████████████████████████████████████████████████| 100%\n",
      "Parse progress: |█████████████████████████████████████████████████████████| 100%\n"
     ]
    },
    {
     "data": {
      "text/html": [
       "<table>\n",
       "<thead>\n",
       "<tr><th>url                                                          </th><th style=\"text-align: right;\">  verified</th><th style=\"text-align: right;\">  url_length</th><th style=\"text-align: right;\">  massiveurl</th></tr>\n",
       "</thead>\n",
       "<tbody>\n",
       "<tr><td>http://www2.co.uk/musings/2009/11/                           </td><td style=\"text-align: right;\">         0</td><td style=\"text-align: right;\">          34</td><td style=\"text-align: right;\">           0</td></tr>\n",
       "<tr><td>http://www2.co.uk/musings/2009/12/                           </td><td style=\"text-align: right;\">         0</td><td style=\"text-align: right;\">          34</td><td style=\"text-align: right;\">           0</td></tr>\n",
       "<tr><td>http://www2.co.uk/musings/2010/05/                           </td><td style=\"text-align: right;\">         0</td><td style=\"text-align: right;\">          34</td><td style=\"text-align: right;\">           0</td></tr>\n",
       "<tr><td>http://www2.co.uk/musings/2010/08/                           </td><td style=\"text-align: right;\">         0</td><td style=\"text-align: right;\">          34</td><td style=\"text-align: right;\">           0</td></tr>\n",
       "<tr><td>http://www2.co.uk/musings/author/admin/                      </td><td style=\"text-align: right;\">         0</td><td style=\"text-align: right;\">          39</td><td style=\"text-align: right;\">           0</td></tr>\n",
       "<tr><td>http://www2.co.uk/musings/category/facebook-privacy/         </td><td style=\"text-align: right;\">         0</td><td style=\"text-align: right;\">          52</td><td style=\"text-align: right;\">           0</td></tr>\n",
       "<tr><td>http://www2.co.uk/musings/category/internet-privacy/         </td><td style=\"text-align: right;\">         0</td><td style=\"text-align: right;\">          52</td><td style=\"text-align: right;\">           0</td></tr>\n",
       "<tr><td>http://www2.co.uk/musings/category/internet-secrecy/         </td><td style=\"text-align: right;\">         0</td><td style=\"text-align: right;\">          52</td><td style=\"text-align: right;\">           0</td></tr>\n",
       "<tr><td>http://www2.co.uk/musings/category/uncategorized/            </td><td style=\"text-align: right;\">         0</td><td style=\"text-align: right;\">          49</td><td style=\"text-align: right;\">           0</td></tr>\n",
       "<tr><td>http://www2.co.uk/musings/facebooks-privacy-policy-mandatory/</td><td style=\"text-align: right;\">         0</td><td style=\"text-align: right;\">          61</td><td style=\"text-align: right;\">           0</td></tr>\n",
       "</tbody>\n",
       "</table>"
      ]
     },
     "metadata": {},
     "output_type": "display_data"
    },
    {
     "name": "stdout",
     "output_type": "stream",
     "text": [
      "\n",
      "AutoML progress: |████████████████████████████████████████████████████████| 100%\n"
     ]
    }
   ],
   "source": [
    "import pandas as pd\n",
    "import numpy as np\n",
    "from pandas import DataFrame\n",
    "\n",
    "from pyspark.sql.types import IntegerType\n",
    "from pyspark.sql.functions import udf\n",
    "from pyspark.sql.functions import *\n",
    "\n",
    "def func_url_lengh(var1):\n",
    "    return len(var1)\n",
    "func_url_lengh_udf = udf(func_url_lengh, IntegerType())\n",
    "\n",
    "def func_url_big(var1):\n",
    "    if (len(var1) > 80):\n",
    "        return 1\n",
    "    else: \n",
    "        return 0\n",
    "func_url_big_udf = udf(func_url_big, IntegerType())\n",
    "\n",
    "### Every URL with More than 80 chars, will be massive .\n",
    "\n",
    "### From Commom Crawl Import global urls :: Asume as verified=0\n",
    "#ccrawl_trainpd=pd.read_json('/home/siemanalyst/notebooks/siem/tail-CC-MAIN-2018-43-index-.com.json', typ='series').to_frame('count')\n",
    "#ccrawl_trainpd.head(100)\n",
    "#ccrawl_trainds=remove_others(ccrawl_trainpd, {\"url\"})\n",
    "#ccrawl_trainds.head(3)\n",
    "\n",
    "## Get all URL Commom Crawl for Top Level Domains : *.com *.net *.org *.co.uk *.ru \n",
    "ccrawl_traindf = sqlContext.read.json(\"hdfs:///user/siemanalyst/data/raw/commoncrawl/dt=20181112/clean-CC-MAIN-2018-43-index-.*.json\")\n",
    "\n",
    "## Assume URLS as not phishing verified=0\n",
    "ccrawl_trainds = ccrawl_traindf.withColumn('verified',lit(0)).withColumn('url_length',func_url_lengh_udf(ccrawl_traindf['url'])).withColumn('massiveurl',func_url_big_udf(ccrawl_traindf['url'])).drop('charset','digest','filename','verification_time','languages','length','mime','mime-detected','offset','status')\n",
    "ccrawl_trainds.printSchema()\n",
    "\n",
    "ccrawl_train_pd=ccrawl_trainds.toPandas()  \n",
    "ccrawl_test_pd=ccrawl_trainds.toPandas().head(1000)\n",
    "\n",
    "ccrawl_train_hf=h2o.H2OFrame(ccrawl_train_pd)\n",
    "ccrawl_test_hf=h2o.H2OFrame(ccrawl_test_pd)\n",
    "\n",
    "### From Phishtank Import Malware urls\n",
    "phishtank_trainpd=pd.read_csv(\"/home/siemanalyst/notebooks/siem/verified_online.csv\")\n",
    "phishtank_trainds=phishtank_trainpd.drop(columns=['phish_id','phish_detail_url','submission_time','verification_time','online','target'])\n",
    "phishtank_trainds['url_length'] = phishtank_trainds['url'].map(str).apply(len)\n",
    "phishtank_trainds['massiveurl'] = np.where(phishtank_trainds['url_length'] > 80 , 1, 0)\n",
    "#phishtank_trainds.head(6)\n",
    "phishtank_train=h2o.H2OFrame(phishtank_trainds)\n",
    "\n",
    "phishtank_testpd=pd.read_csv(\"/home/siemanalyst/notebooks/siem/verified_online.csv\")\n",
    "phishtank_testds=phishtank_testpd.drop(columns=['phish_id','phish_detail_url','submission_time','verification_time','online','target'])\n",
    "phishtank_testds['url_length'] = phishtank_testds['url'].map(str).apply(len)\n",
    "phishtank_testds['massiveurl'] = np.where(phishtank_testds['url_length'] > 80 , 1, 0)\n",
    "#phishtank_testds.head(6)\n",
    "phishtank_test=h2o.H2OFrame(phishtank_testds.head(1000))\n",
    "\n",
    "\n",
    "# Merge the data frames. The result is a single dataset with three columns.\n",
    "#print(ccrawl_train_hf)\n",
    "#print(ccrawl_test_hf.describe)\n",
    "#print(phishtank_train.describe)\n",
    "#print(phishtank_test.describe)\n",
    "\n",
    "# Merge all of df2 into df1 with rbind .\n",
    "# As merge() doesn't work if both H2O/dataframes are the same\n",
    "\n",
    "train = ccrawl_train_hf.rbind(phishtank_train)\n",
    "train.describe\n",
    "\n",
    "test = ccrawl_test_hf.rbind(phishtank_test)\n",
    "test.describe\n",
    "\n",
    "# Identify predictors and response\n",
    "x = train.columns\n",
    "y = 'massiveurl'\n",
    "x.remove(y)\n",
    "\n",
    "# For binary classification, response should be a factor\n",
    "train[y] = train[y].asfactor()\n",
    "test[y] = test[y].asfactor()\n",
    "\n",
    "# Run AutoML for 40 base models (limited to 1 hour max runtime by default)\n",
    "aml = H2OAutoML(max_models=40, seed=1999)\n",
    "aml.train(x=x, y=y, training_frame=train)\n"
   ]
  },
  {
   "cell_type": "code",
   "execution_count": 5,
   "metadata": {},
   "outputs": [
    {
     "data": {
      "text/html": [
       "<table>\n",
       "<thead>\n",
       "<tr><th>model_id                                           </th><th style=\"text-align: right;\">     auc</th><th style=\"text-align: right;\">    logloss</th><th style=\"text-align: right;\">  mean_per_class_error</th><th style=\"text-align: right;\">       rmse</th><th style=\"text-align: right;\">        mse</th></tr>\n",
       "</thead>\n",
       "<tbody>\n",
       "<tr><td>XGBoost_grid_1_AutoML_20181112_162134_model_1      </td><td style=\"text-align: right;\">1       </td><td style=\"text-align: right;\">0.000618089</td><td style=\"text-align: right;\">           0          </td><td style=\"text-align: right;\">0.000756091</td><td style=\"text-align: right;\">5.71674e-07</td></tr>\n",
       "<tr><td>XGBoost_grid_1_AutoML_20181112_162134_model_8      </td><td style=\"text-align: right;\">1       </td><td style=\"text-align: right;\">0.000109386</td><td style=\"text-align: right;\">           0          </td><td style=\"text-align: right;\">0.000133627</td><td style=\"text-align: right;\">1.78562e-08</td></tr>\n",
       "<tr><td>GBM_3_AutoML_20181112_162134                       </td><td style=\"text-align: right;\">1       </td><td style=\"text-align: right;\">4.578e-18  </td><td style=\"text-align: right;\">           0          </td><td style=\"text-align: right;\">3.18829e-17</td><td style=\"text-align: right;\">1.01652e-33</td></tr>\n",
       "<tr><td>GBM_4_AutoML_20181112_162134                       </td><td style=\"text-align: right;\">1       </td><td style=\"text-align: right;\">0          </td><td style=\"text-align: right;\">           0          </td><td style=\"text-align: right;\">0          </td><td style=\"text-align: right;\">0          </td></tr>\n",
       "<tr><td>GBM_1_AutoML_20181112_162134                       </td><td style=\"text-align: right;\">1       </td><td style=\"text-align: right;\">6.46423e-18</td><td style=\"text-align: right;\">           0          </td><td style=\"text-align: right;\">3.7886e-17 </td><td style=\"text-align: right;\">1.43535e-33</td></tr>\n",
       "<tr><td>XGBoost_grid_1_AutoML_20181112_162134_model_9      </td><td style=\"text-align: right;\">1       </td><td style=\"text-align: right;\">5.04774e-05</td><td style=\"text-align: right;\">           0          </td><td style=\"text-align: right;\">6.30127e-05</td><td style=\"text-align: right;\">3.9706e-09 </td></tr>\n",
       "<tr><td>XGBoost_grid_1_AutoML_20181112_162134_model_6      </td><td style=\"text-align: right;\">1       </td><td style=\"text-align: right;\">0.00054926 </td><td style=\"text-align: right;\">           0          </td><td style=\"text-align: right;\">0.000671694</td><td style=\"text-align: right;\">4.51172e-07</td></tr>\n",
       "<tr><td>XRT_1_AutoML_20181112_162134                       </td><td style=\"text-align: right;\">1       </td><td style=\"text-align: right;\">0.00112938 </td><td style=\"text-align: right;\">           0          </td><td style=\"text-align: right;\">0.0131951  </td><td style=\"text-align: right;\">0.00017411 </td></tr>\n",
       "<tr><td>GBM_2_AutoML_20181112_162134                       </td><td style=\"text-align: right;\">1       </td><td style=\"text-align: right;\">5.11834e-18</td><td style=\"text-align: right;\">           0          </td><td style=\"text-align: right;\">3.3712e-17 </td><td style=\"text-align: right;\">1.1365e-33 </td></tr>\n",
       "<tr><td>XGBoost_grid_1_AutoML_20181112_162134_model_11     </td><td style=\"text-align: right;\">1       </td><td style=\"text-align: right;\">0.0635022  </td><td style=\"text-align: right;\">           0          </td><td style=\"text-align: right;\">0.0717084  </td><td style=\"text-align: right;\">0.00514209 </td></tr>\n",
       "<tr><td>XGBoost_1_AutoML_20181112_162134                   </td><td style=\"text-align: right;\">1       </td><td style=\"text-align: right;\">0.000134759</td><td style=\"text-align: right;\">           0          </td><td style=\"text-align: right;\">0.000164911</td><td style=\"text-align: right;\">2.71956e-08</td></tr>\n",
       "<tr><td>XGBoost_grid_1_AutoML_20181112_162134_model_4      </td><td style=\"text-align: right;\">1       </td><td style=\"text-align: right;\">0.000366873</td><td style=\"text-align: right;\">           0          </td><td style=\"text-align: right;\">0.000448038</td><td style=\"text-align: right;\">2.00738e-07</td></tr>\n",
       "<tr><td>StackedEnsemble_AllModels_AutoML_20181112_162134   </td><td style=\"text-align: right;\">1       </td><td style=\"text-align: right;\">5.81895e-05</td><td style=\"text-align: right;\">           0          </td><td style=\"text-align: right;\">8.22532e-05</td><td style=\"text-align: right;\">6.76558e-09</td></tr>\n",
       "<tr><td>XGBoost_2_AutoML_20181112_162134                   </td><td style=\"text-align: right;\">1       </td><td style=\"text-align: right;\">0.000299954</td><td style=\"text-align: right;\">           0          </td><td style=\"text-align: right;\">0.000367022</td><td style=\"text-align: right;\">1.34705e-07</td></tr>\n",
       "<tr><td>XGBoost_grid_1_AutoML_20181112_162134_model_7      </td><td style=\"text-align: right;\">1       </td><td style=\"text-align: right;\">3.00905e-05</td><td style=\"text-align: right;\">           0          </td><td style=\"text-align: right;\">3.7062e-05 </td><td style=\"text-align: right;\">1.37359e-09</td></tr>\n",
       "<tr><td>DRF_1_AutoML_20181112_162134                       </td><td style=\"text-align: right;\">1       </td><td style=\"text-align: right;\">0          </td><td style=\"text-align: right;\">           0          </td><td style=\"text-align: right;\">0          </td><td style=\"text-align: right;\">0          </td></tr>\n",
       "<tr><td>XGBoost_3_AutoML_20181112_162134                   </td><td style=\"text-align: right;\">1       </td><td style=\"text-align: right;\">0.000604171</td><td style=\"text-align: right;\">           0          </td><td style=\"text-align: right;\">0.000738816</td><td style=\"text-align: right;\">5.45848e-07</td></tr>\n",
       "<tr><td>GBM_5_AutoML_20181112_162134                       </td><td style=\"text-align: right;\">1       </td><td style=\"text-align: right;\">5.76808e-19</td><td style=\"text-align: right;\">           0          </td><td style=\"text-align: right;\">1.13171e-17</td><td style=\"text-align: right;\">1.28077e-34</td></tr>\n",
       "<tr><td>XGBoost_grid_1_AutoML_20181112_162134_model_12     </td><td style=\"text-align: right;\">1       </td><td style=\"text-align: right;\">0.285934   </td><td style=\"text-align: right;\">           0          </td><td style=\"text-align: right;\">0.253806   </td><td style=\"text-align: right;\">0.0644174  </td></tr>\n",
       "<tr><td>GBM_grid_1_AutoML_20181112_162134_model_1          </td><td style=\"text-align: right;\">1       </td><td style=\"text-align: right;\">2.67454e-06</td><td style=\"text-align: right;\">           0          </td><td style=\"text-align: right;\">3.27142e-06</td><td style=\"text-align: right;\">1.07022e-11</td></tr>\n",
       "<tr><td>XGBoost_grid_1_AutoML_20181112_162134_model_10     </td><td style=\"text-align: right;\">1       </td><td style=\"text-align: right;\">0.00444232 </td><td style=\"text-align: right;\">           0          </td><td style=\"text-align: right;\">0.0056107  </td><td style=\"text-align: right;\">3.148e-05  </td></tr>\n",
       "<tr><td>GLM_grid_1_AutoML_20181112_162134_model_1          </td><td style=\"text-align: right;\">1       </td><td style=\"text-align: right;\">0.0233865  </td><td style=\"text-align: right;\">           0          </td><td style=\"text-align: right;\">0.074118   </td><td style=\"text-align: right;\">0.00549348 </td></tr>\n",
       "<tr><td>XGBoost_grid_1_AutoML_20181112_162134_model_5      </td><td style=\"text-align: right;\">1       </td><td style=\"text-align: right;\">0.000951647</td><td style=\"text-align: right;\">           0          </td><td style=\"text-align: right;\">0.0011583  </td><td style=\"text-align: right;\">1.34167e-06</td></tr>\n",
       "<tr><td>StackedEnsemble_BestOfFamily_AutoML_20181112_162134</td><td style=\"text-align: right;\">1       </td><td style=\"text-align: right;\">0.00010599 </td><td style=\"text-align: right;\">           0          </td><td style=\"text-align: right;\">0.000168247</td><td style=\"text-align: right;\">2.83069e-08</td></tr>\n",
       "<tr><td>DeepLearning_grid_1_AutoML_20181112_162134_model_4 </td><td style=\"text-align: right;\">0.999997</td><td style=\"text-align: right;\">0.0109171  </td><td style=\"text-align: right;\">           0.000170836</td><td style=\"text-align: right;\">0.0481346  </td><td style=\"text-align: right;\">0.00231694 </td></tr>\n",
       "<tr><td>DeepLearning_1_AutoML_20181112_162134              </td><td style=\"text-align: right;\">0.999996</td><td style=\"text-align: right;\">0.00919038 </td><td style=\"text-align: right;\">           0.000427091</td><td style=\"text-align: right;\">0.0472887  </td><td style=\"text-align: right;\">0.00223622 </td></tr>\n",
       "<tr><td>DeepLearning_grid_1_AutoML_20181112_162134_model_2 </td><td style=\"text-align: right;\">0.999993</td><td style=\"text-align: right;\">0.00396134 </td><td style=\"text-align: right;\">           0.00133668 </td><td style=\"text-align: right;\">0.0326036  </td><td style=\"text-align: right;\">0.001063   </td></tr>\n",
       "<tr><td>DeepLearning_grid_1_AutoML_20181112_162134_model_1 </td><td style=\"text-align: right;\">0.999979</td><td style=\"text-align: right;\">0.0107563  </td><td style=\"text-align: right;\">           0.00230769 </td><td style=\"text-align: right;\">0.0500346  </td><td style=\"text-align: right;\">0.00250346 </td></tr>\n",
       "<tr><td>DeepLearning_grid_1_AutoML_20181112_162134_model_6 </td><td style=\"text-align: right;\">0.999966</td><td style=\"text-align: right;\">0.00665765 </td><td style=\"text-align: right;\">           0.00166091 </td><td style=\"text-align: right;\">0.0482367  </td><td style=\"text-align: right;\">0.00232678 </td></tr>\n",
       "<tr><td>DeepLearning_grid_1_AutoML_20181112_162134_model_8 </td><td style=\"text-align: right;\">0.999961</td><td style=\"text-align: right;\">0.00581898 </td><td style=\"text-align: right;\">           0.00409891 </td><td style=\"text-align: right;\">0.042188   </td><td style=\"text-align: right;\">0.00177983 </td></tr>\n",
       "<tr><td>DeepLearning_grid_1_AutoML_20181112_162134_model_3 </td><td style=\"text-align: right;\">0.999928</td><td style=\"text-align: right;\">0.0422271  </td><td style=\"text-align: right;\">           0.00370286 </td><td style=\"text-align: right;\">0.0988504  </td><td style=\"text-align: right;\">0.00977139 </td></tr>\n",
       "<tr><td>DeepLearning_grid_1_AutoML_20181112_162134_model_7 </td><td style=\"text-align: right;\">0.999387</td><td style=\"text-align: right;\">0.0190738  </td><td style=\"text-align: right;\">           0.0106993  </td><td style=\"text-align: right;\">0.0674224  </td><td style=\"text-align: right;\">0.00454578 </td></tr>\n",
       "<tr><td>XGBoost_grid_1_AutoML_20181112_162134_model_3      </td><td style=\"text-align: right;\">0.997945</td><td style=\"text-align: right;\">0.0420927  </td><td style=\"text-align: right;\">           0.0355245  </td><td style=\"text-align: right;\">0.123159   </td><td style=\"text-align: right;\">0.0151683  </td></tr>\n",
       "<tr><td>DeepLearning_grid_1_AutoML_20181112_162134_model_5 </td><td style=\"text-align: right;\">0.997064</td><td style=\"text-align: right;\">0.0421136  </td><td style=\"text-align: right;\">           0.0237762  </td><td style=\"text-align: right;\">0.0980859  </td><td style=\"text-align: right;\">0.00962085 </td></tr>\n",
       "<tr><td>XGBoost_grid_1_AutoML_20181112_162134_model_2      </td><td style=\"text-align: right;\">0.991701</td><td style=\"text-align: right;\">0.0846719  </td><td style=\"text-align: right;\">           0.0720629  </td><td style=\"text-align: right;\">0.174177   </td><td style=\"text-align: right;\">0.0303375  </td></tr>\n",
       "</tbody>\n",
       "</table>"
      ]
     },
     "metadata": {},
     "output_type": "display_data"
    },
    {
     "data": {
      "text/plain": []
     },
     "execution_count": 5,
     "metadata": {},
     "output_type": "execute_result"
    }
   ],
   "source": [
    "# View the AutoML Leaderboard\n",
    "lb = aml.leaderboard\n",
    "lb.head(rows=lb.nrows)  # Print all rows instead of default (10 rows)"
   ]
  },
  {
   "cell_type": "code",
   "execution_count": null,
   "metadata": {},
   "outputs": [],
   "source": []
  }
 ],
 "metadata": {
  "kernelspec": {
   "display_name": "Python 3",
   "language": "python",
   "name": "python3"
  },
  "language_info": {
   "codemirror_mode": {
    "name": "ipython",
    "version": 3
   },
   "file_extension": ".py",
   "mimetype": "text/x-python",
   "name": "python",
   "nbconvert_exporter": "python",
   "pygments_lexer": "ipython3",
   "version": "3.6.4"
  }
 },
 "nbformat": 4,
 "nbformat_minor": 2
}
