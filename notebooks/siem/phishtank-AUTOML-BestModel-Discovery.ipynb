{
 "cells": [
  {
   "cell_type": "code",
   "execution_count": 2,
   "metadata": {},
   "outputs": [
    {
     "name": "stdout",
     "output_type": "stream",
     "text": [
      "Checking whether there is an H2O instance running at http://localhost:54321. connected.\n"
     ]
    },
    {
     "data": {
      "text/html": [
       "<div style=\"overflow:auto\"><table style=\"width:50%\"><tr><td>H2O cluster uptime:</td>\n",
       "<td>2 days 21 hours 45 mins</td></tr>\n",
       "<tr><td>H2O cluster timezone:</td>\n",
       "<td>America/New_York</td></tr>\n",
       "<tr><td>H2O data parsing timezone:</td>\n",
       "<td>UTC</td></tr>\n",
       "<tr><td>H2O cluster version:</td>\n",
       "<td>3.22.0.1</td></tr>\n",
       "<tr><td>H2O cluster version age:</td>\n",
       "<td>13 days </td></tr>\n",
       "<tr><td>H2O cluster name:</td>\n",
       "<td>H2O_from_python_oracle_ovyy7e</td></tr>\n",
       "<tr><td>H2O cluster total nodes:</td>\n",
       "<td>1</td></tr>\n",
       "<tr><td>H2O cluster free memory:</td>\n",
       "<td>6.331 Gb</td></tr>\n",
       "<tr><td>H2O cluster total cores:</td>\n",
       "<td>12</td></tr>\n",
       "<tr><td>H2O cluster allowed cores:</td>\n",
       "<td>12</td></tr>\n",
       "<tr><td>H2O cluster status:</td>\n",
       "<td>locked, healthy</td></tr>\n",
       "<tr><td>H2O connection url:</td>\n",
       "<td>http://localhost:54321</td></tr>\n",
       "<tr><td>H2O connection proxy:</td>\n",
       "<td>None</td></tr>\n",
       "<tr><td>H2O internal security:</td>\n",
       "<td>False</td></tr>\n",
       "<tr><td>H2O API Extensions:</td>\n",
       "<td>XGBoost, Algos, AutoML, Core V3, Core V4</td></tr>\n",
       "<tr><td>Python version:</td>\n",
       "<td>3.6.4 final</td></tr></table></div>"
      ],
      "text/plain": [
       "--------------------------  ----------------------------------------\n",
       "H2O cluster uptime:         2 days 21 hours 45 mins\n",
       "H2O cluster timezone:       America/New_York\n",
       "H2O data parsing timezone:  UTC\n",
       "H2O cluster version:        3.22.0.1\n",
       "H2O cluster version age:    13 days\n",
       "H2O cluster name:           H2O_from_python_oracle_ovyy7e\n",
       "H2O cluster total nodes:    1\n",
       "H2O cluster free memory:    6.331 Gb\n",
       "H2O cluster total cores:    12\n",
       "H2O cluster allowed cores:  12\n",
       "H2O cluster status:         locked, healthy\n",
       "H2O connection url:         http://localhost:54321\n",
       "H2O connection proxy:\n",
       "H2O internal security:      False\n",
       "H2O API Extensions:         XGBoost, Algos, AutoML, Core V3, Core V4\n",
       "Python version:             3.6.4 final\n",
       "--------------------------  ----------------------------------------"
      ]
     },
     "metadata": {},
     "output_type": "display_data"
    }
   ],
   "source": [
    "import h2o\n",
    "from h2o.automl import H2OAutoML\n",
    "\n",
    "h2o.init()"
   ]
  },
  {
   "cell_type": "code",
   "execution_count": 3,
   "metadata": {},
   "outputs": [
    {
     "name": "stdout",
     "output_type": "stream",
     "text": [
      "Parse progress: |█████████████████████████████████████████████████████████| 100%\n",
      "Parse progress: |█████████████████████████████████████████████████████████| 100%\n"
     ]
    }
   ],
   "source": [
    "import pandas as pd\n",
    "import numpy as np\n",
    "from pandas import DataFrame\n",
    "\n",
    "#from typing import Set, Any\n",
    "#def remove_others(df: DataFrame, columns: Set[Any]):\n",
    "#    cols_total: Set[Any] = set(df.columns)\n",
    "#    diff: Set[Any] = cols_total - columns\n",
    "#    df.drop(diff, axis=1, inplace=True)\n",
    "    \n",
    "### From Phishtank Import Malware urls\n",
    "\n",
    "phishtank_trainpd=pd.read_csv(\"/home/oracle/notebooks/seim/online-valid.csv\")\n",
    "phishtank_trainds=phishtank_trainpd.drop(columns=['phish_id','phish_detail_url','submission_time','verification_time','online','target']).head(400)\n",
    "phishtank_trainds['url_length'] = phishtank_trainds['url'].map(str).apply(len)\n",
    "phishtank_trainds['massiveurl'] = np.where(phishtank_trainds['url_length'] > 100 , 1, 0)\n",
    "phishtank_trainds.head(6)\n",
    "train=h2o.H2OFrame(phishtank_trainds)\n",
    "\n",
    "### From Commom Crawl Import global urls :: Asume as verified=0\n",
    "ccrawl_trainpd=pd.read_json('/home/oracle/notebooks/seim/tail-CC-MAIN-2018-43-index-.com.json', typ='series').to_frame('count')\n",
    "ccrawl_trainpd.head(100)\n",
    "#ccrawl_trainds=remove_others(ccrawl_trainpd, {\"url\"})\n",
    "#ccrawl_trainds.head(3)\n",
    "\n",
    "phishtank_testpd=pd.read_csv(\"/home/oracle/notebooks/seim/online-valid.csv\")\n",
    "phishtank_testds=phishtank_testpd.drop(columns=['phish_id','phish_detail_url','submission_time','verification_time','online','target']).tail(10)\n",
    "phishtank_testds['url_length'] = phishtank_testds['url'].map(str).apply(len)\n",
    "phishtank_testds['massiveurl'] = np.where(phishtank_testds['url_length'] > 100 , 1, 0)\n",
    "phishtank_testds.head(6)\n",
    "test=h2o.H2OFrame(phishtank_testds)"
   ]
  },
  {
   "cell_type": "code",
   "execution_count": 5,
   "metadata": {},
   "outputs": [
    {
     "name": "stdout",
     "output_type": "stream",
     "text": [
      "Rows:400\n",
      "Cols:1\n",
      "\n",
      "\n"
     ]
    },
    {
     "data": {
      "text/html": [
       "<table>\n",
       "<thead>\n",
       "<tr><th>       </th><th>massiveurl         </th></tr>\n",
       "</thead>\n",
       "<tbody>\n",
       "<tr><td>type   </td><td>int                </td></tr>\n",
       "<tr><td>mins   </td><td>0.0                </td></tr>\n",
       "<tr><td>mean   </td><td>0.1475             </td></tr>\n",
       "<tr><td>maxs   </td><td>1.0                </td></tr>\n",
       "<tr><td>sigma  </td><td>0.35504773938599826</td></tr>\n",
       "<tr><td>zeros  </td><td>341                </td></tr>\n",
       "<tr><td>missing</td><td>0                  </td></tr>\n",
       "<tr><td>0      </td><td>1.0                </td></tr>\n",
       "<tr><td>1      </td><td>0.0                </td></tr>\n",
       "<tr><td>2      </td><td>0.0                </td></tr>\n",
       "<tr><td>3      </td><td>0.0                </td></tr>\n",
       "<tr><td>4      </td><td>0.0                </td></tr>\n",
       "<tr><td>5      </td><td>0.0                </td></tr>\n",
       "<tr><td>6      </td><td>0.0                </td></tr>\n",
       "<tr><td>7      </td><td>0.0                </td></tr>\n",
       "<tr><td>8      </td><td>0.0                </td></tr>\n",
       "<tr><td>9      </td><td>0.0                </td></tr>\n",
       "</tbody>\n",
       "</table>"
      ]
     },
     "metadata": {},
     "output_type": "display_data"
    },
    {
     "name": "stdout",
     "output_type": "stream",
     "text": [
      "Rows:10\n",
      "Cols:1\n",
      "\n",
      "\n"
     ]
    },
    {
     "data": {
      "text/html": [
       "<table>\n",
       "<thead>\n",
       "<tr><th>       </th><th>massiveurl  </th></tr>\n",
       "</thead>\n",
       "<tbody>\n",
       "<tr><td>type   </td><td>int         </td></tr>\n",
       "<tr><td>mins   </td><td>0.0         </td></tr>\n",
       "<tr><td>mean   </td><td>0.0         </td></tr>\n",
       "<tr><td>maxs   </td><td>0.0         </td></tr>\n",
       "<tr><td>sigma  </td><td>0.0         </td></tr>\n",
       "<tr><td>zeros  </td><td>10          </td></tr>\n",
       "<tr><td>missing</td><td>0           </td></tr>\n",
       "<tr><td>0      </td><td>0.0         </td></tr>\n",
       "<tr><td>1      </td><td>0.0         </td></tr>\n",
       "<tr><td>2      </td><td>0.0         </td></tr>\n",
       "<tr><td>3      </td><td>0.0         </td></tr>\n",
       "<tr><td>4      </td><td>0.0         </td></tr>\n",
       "<tr><td>5      </td><td>0.0         </td></tr>\n",
       "<tr><td>6      </td><td>0.0         </td></tr>\n",
       "<tr><td>7      </td><td>0.0         </td></tr>\n",
       "<tr><td>8      </td><td>0.0         </td></tr>\n",
       "<tr><td>9      </td><td>0.0         </td></tr>\n",
       "</tbody>\n",
       "</table>"
      ]
     },
     "metadata": {},
     "output_type": "display_data"
    }
   ],
   "source": [
    "# Import a sample binary outcome train/test set into H2O\n",
    "#train = h2o.import_file(\"/home/oracle/notebooks/seim/online-valid.csv\")\n",
    "#test = h2o.import_file(\"/home/oracle/notebooks/seim/online-valid.csv\").head(2000)\n",
    "\n",
    "train.head()\n",
    "train['massiveurl'].describe()\n",
    "test.head()\n",
    "test['massiveurl'].describe()\n"
   ]
  },
  {
   "cell_type": "code",
   "execution_count": 7,
   "metadata": {},
   "outputs": [
    {
     "name": "stdout",
     "output_type": "stream",
     "text": [
      "AutoML progress: |████████████████████████████████████████████████████████| 100%\n"
     ]
    }
   ],
   "source": [
    "# Identify predictors and response\n",
    "x = train.columns\n",
    "y = \"massiveurl\"\n",
    "x.remove(y)\n",
    "\n",
    "# For binary classification, response should be a factor\n",
    "train[y] = train[y].asfactor()\n",
    "test[y] = test[y].asfactor()\n",
    "\n",
    "# Run AutoML for 20 base models (limited to 1 hour max runtime by default)\n",
    "aml = H2OAutoML(max_models=20, seed=1999)\n",
    "aml.train(x=x, y=y, training_frame=train)\n"
   ]
  },
  {
   "cell_type": "code",
   "execution_count": 8,
   "metadata": {},
   "outputs": [
    {
     "data": {
      "text/html": [
       "<table>\n",
       "<thead>\n",
       "<tr><th>model_id                                           </th><th style=\"text-align: right;\">     auc</th><th style=\"text-align: right;\">    logloss</th><th style=\"text-align: right;\">  mean_per_class_error</th><th style=\"text-align: right;\">       rmse</th><th style=\"text-align: right;\">        mse</th></tr>\n",
       "</thead>\n",
       "<tbody>\n",
       "<tr><td>XGBoost_2_AutoML_20181109_044414                   </td><td style=\"text-align: right;\">1       </td><td style=\"text-align: right;\">0.0639674  </td><td style=\"text-align: right;\">             0        </td><td style=\"text-align: right;\">0.093763   </td><td style=\"text-align: right;\">0.00879151 </td></tr>\n",
       "<tr><td>XGBoost_grid_1_AutoML_20181109_044414_model_4      </td><td style=\"text-align: right;\">1       </td><td style=\"text-align: right;\">0.00884463 </td><td style=\"text-align: right;\">             0        </td><td style=\"text-align: right;\">0.0124791  </td><td style=\"text-align: right;\">0.000155728</td></tr>\n",
       "<tr><td>GLM_grid_1_AutoML_20181109_044414_model_1          </td><td style=\"text-align: right;\">1       </td><td style=\"text-align: right;\">0.0166185  </td><td style=\"text-align: right;\">             0        </td><td style=\"text-align: right;\">0.0595585  </td><td style=\"text-align: right;\">0.00354721 </td></tr>\n",
       "<tr><td>XRT_1_AutoML_20181109_044414                       </td><td style=\"text-align: right;\">1       </td><td style=\"text-align: right;\">0.00349934 </td><td style=\"text-align: right;\">             0        </td><td style=\"text-align: right;\">0.0377512  </td><td style=\"text-align: right;\">0.00142515 </td></tr>\n",
       "<tr><td>XGBoost_grid_1_AutoML_20181109_044414_model_2      </td><td style=\"text-align: right;\">1       </td><td style=\"text-align: right;\">0.00655446 </td><td style=\"text-align: right;\">             0        </td><td style=\"text-align: right;\">0.00913771 </td><td style=\"text-align: right;\">8.34977e-05</td></tr>\n",
       "<tr><td>StackedEnsemble_AllModels_AutoML_20181109_044414   </td><td style=\"text-align: right;\">1       </td><td style=\"text-align: right;\">5.44791e-05</td><td style=\"text-align: right;\">             0        </td><td style=\"text-align: right;\">9.62339e-05</td><td style=\"text-align: right;\">9.26095e-09</td></tr>\n",
       "<tr><td>GBM_1_AutoML_20181109_044414                       </td><td style=\"text-align: right;\">1       </td><td style=\"text-align: right;\">0          </td><td style=\"text-align: right;\">             0        </td><td style=\"text-align: right;\">0          </td><td style=\"text-align: right;\">0          </td></tr>\n",
       "<tr><td>GBM_3_AutoML_20181109_044414                       </td><td style=\"text-align: right;\">1       </td><td style=\"text-align: right;\">0          </td><td style=\"text-align: right;\">             0        </td><td style=\"text-align: right;\">0          </td><td style=\"text-align: right;\">0          </td></tr>\n",
       "<tr><td>XGBoost_grid_1_AutoML_20181109_044414_model_1      </td><td style=\"text-align: right;\">1       </td><td style=\"text-align: right;\">0.0206397  </td><td style=\"text-align: right;\">             0        </td><td style=\"text-align: right;\">0.0281793  </td><td style=\"text-align: right;\">0.000794071</td></tr>\n",
       "<tr><td>XGBoost_grid_1_AutoML_20181109_044414_model_3      </td><td style=\"text-align: right;\">1       </td><td style=\"text-align: right;\">0.00722589 </td><td style=\"text-align: right;\">             0        </td><td style=\"text-align: right;\">0.00998039 </td><td style=\"text-align: right;\">9.96082e-05</td></tr>\n",
       "<tr><td>GBM_4_AutoML_20181109_044414                       </td><td style=\"text-align: right;\">1       </td><td style=\"text-align: right;\">0          </td><td style=\"text-align: right;\">             0        </td><td style=\"text-align: right;\">0          </td><td style=\"text-align: right;\">0          </td></tr>\n",
       "<tr><td>GBM_grid_1_AutoML_20181109_044414_model_1          </td><td style=\"text-align: right;\">1       </td><td style=\"text-align: right;\">0          </td><td style=\"text-align: right;\">             0        </td><td style=\"text-align: right;\">0          </td><td style=\"text-align: right;\">0          </td></tr>\n",
       "<tr><td>XGBoost_1_AutoML_20181109_044414                   </td><td style=\"text-align: right;\">1       </td><td style=\"text-align: right;\">0.0255565  </td><td style=\"text-align: right;\">             0        </td><td style=\"text-align: right;\">0.0384084  </td><td style=\"text-align: right;\">0.00147521 </td></tr>\n",
       "<tr><td>StackedEnsemble_BestOfFamily_AutoML_20181109_044414</td><td style=\"text-align: right;\">1       </td><td style=\"text-align: right;\">0.00015999 </td><td style=\"text-align: right;\">             0        </td><td style=\"text-align: right;\">0.0013741  </td><td style=\"text-align: right;\">1.88816e-06</td></tr>\n",
       "<tr><td>GBM_2_AutoML_20181109_044414                       </td><td style=\"text-align: right;\">1       </td><td style=\"text-align: right;\">0          </td><td style=\"text-align: right;\">             0        </td><td style=\"text-align: right;\">0          </td><td style=\"text-align: right;\">0          </td></tr>\n",
       "<tr><td>DRF_1_AutoML_20181109_044414                       </td><td style=\"text-align: right;\">1       </td><td style=\"text-align: right;\">0          </td><td style=\"text-align: right;\">             0        </td><td style=\"text-align: right;\">0          </td><td style=\"text-align: right;\">0          </td></tr>\n",
       "<tr><td>DeepLearning_1_AutoML_20181109_044414              </td><td style=\"text-align: right;\">0.99732 </td><td style=\"text-align: right;\">0.126533   </td><td style=\"text-align: right;\">             0.0386818</td><td style=\"text-align: right;\">0.178872   </td><td style=\"text-align: right;\">0.0319953  </td></tr>\n",
       "<tr><td>DeepLearning_grid_1_AutoML_20181109_044414_model_2 </td><td style=\"text-align: right;\">0.99604 </td><td style=\"text-align: right;\">0.0646283  </td><td style=\"text-align: right;\">             0.0604898</td><td style=\"text-align: right;\">0.141211   </td><td style=\"text-align: right;\">0.0199407  </td></tr>\n",
       "<tr><td>DeepLearning_grid_1_AutoML_20181109_044414_model_1 </td><td style=\"text-align: right;\">0.993847</td><td style=\"text-align: right;\">0.111038   </td><td style=\"text-align: right;\">             0.0740741</td><td style=\"text-align: right;\">0.189224   </td><td style=\"text-align: right;\">0.0358057  </td></tr>\n",
       "<tr><td>XGBoost_3_AutoML_20181109_044414                   </td><td style=\"text-align: right;\">0.96872 </td><td style=\"text-align: right;\">0.194893   </td><td style=\"text-align: right;\">             0.0279605</td><td style=\"text-align: right;\">0.236643   </td><td style=\"text-align: right;\">0.0559999  </td></tr>\n",
       "<tr><td>GBM_grid_1_AutoML_20181109_044414_model_2          </td><td style=\"text-align: right;\">0.883955</td><td style=\"text-align: right;\">0.242907   </td><td style=\"text-align: right;\">             0.113487 </td><td style=\"text-align: right;\">0.291749   </td><td style=\"text-align: right;\">0.0851175  </td></tr>\n",
       "<tr><td>GBM_5_AutoML_20181109_044414                       </td><td style=\"text-align: right;\">0.879934</td><td style=\"text-align: right;\">0.238296   </td><td style=\"text-align: right;\">             0.113487 </td><td style=\"text-align: right;\">0.291342   </td><td style=\"text-align: right;\">0.0848801  </td></tr>\n",
       "</tbody>\n",
       "</table>"
      ]
     },
     "metadata": {},
     "output_type": "display_data"
    },
    {
     "data": {
      "text/plain": []
     },
     "execution_count": 8,
     "metadata": {},
     "output_type": "execute_result"
    }
   ],
   "source": [
    "# View the AutoML Leaderboard\n",
    "lb = aml.leaderboard\n",
    "lb.head(rows=lb.nrows)  # Print all rows instead of default (10 rows)"
   ]
  },
  {
   "cell_type": "code",
   "execution_count": null,
   "metadata": {},
   "outputs": [],
   "source": []
  }
 ],
 "metadata": {
  "kernelspec": {
   "display_name": "Python 3",
   "language": "python",
   "name": "python3"
  },
  "language_info": {
   "codemirror_mode": {
    "name": "ipython",
    "version": 3
   },
   "file_extension": ".py",
   "mimetype": "text/x-python",
   "name": "python",
   "nbconvert_exporter": "python",
   "pygments_lexer": "ipython3",
   "version": "3.6.4"
  }
 },
 "nbformat": 4,
 "nbformat_minor": 2
}
