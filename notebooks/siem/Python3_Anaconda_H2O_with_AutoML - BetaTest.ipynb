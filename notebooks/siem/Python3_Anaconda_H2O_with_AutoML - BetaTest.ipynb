{
 "cells": [
  {
   "cell_type": "code",
   "execution_count": 5,
   "metadata": {},
   "outputs": [
    {
     "name": "stdout",
     "output_type": "stream",
     "text": [
      "Checking whether there is an H2O instance running at http://localhost:54321..... not found.\n",
      "Attempting to start a local H2O server...\n",
      "  Java Version: java version \"1.8.0_171\"; Java(TM) SE Runtime Environment (build 1.8.0_171-b11); Java HotSpot(TM) 64-Bit Server VM (build 25.171-b11, mixed mode)\n",
      "  Starting server from /opt/cloudera/parcels/Anaconda-5.1.0.1/lib/python3.6/site-packages/h2o/backend/bin/h2o.jar\n",
      "  Ice root: /tmp/tmpxhhifza4\n",
      "  JVM stdout: /tmp/tmpxhhifza4/h2o_oracle_started_from_python.out\n",
      "  JVM stderr: /tmp/tmpxhhifza4/h2o_oracle_started_from_python.err\n",
      "  Server is running at http://127.0.0.1:54321\n",
      "Connecting to H2O server at http://127.0.0.1:54321... successful.\n"
     ]
    },
    {
     "data": {
      "text/html": [
       "<div style=\"overflow:auto\"><table style=\"width:50%\"><tr><td>H2O cluster uptime:</td>\n",
       "<td>06 secs</td></tr>\n",
       "<tr><td>H2O cluster timezone:</td>\n",
       "<td>America/New_York</td></tr>\n",
       "<tr><td>H2O data parsing timezone:</td>\n",
       "<td>UTC</td></tr>\n",
       "<tr><td>H2O cluster version:</td>\n",
       "<td>3.22.0.1</td></tr>\n",
       "<tr><td>H2O cluster version age:</td>\n",
       "<td>9 days </td></tr>\n",
       "<tr><td>H2O cluster name:</td>\n",
       "<td>H2O_from_python_oracle_hmofpm</td></tr>\n",
       "<tr><td>H2O cluster total nodes:</td>\n",
       "<td>1</td></tr>\n",
       "<tr><td>H2O cluster free memory:</td>\n",
       "<td>6.927 Gb</td></tr>\n",
       "<tr><td>H2O cluster total cores:</td>\n",
       "<td>12</td></tr>\n",
       "<tr><td>H2O cluster allowed cores:</td>\n",
       "<td>12</td></tr>\n",
       "<tr><td>H2O cluster status:</td>\n",
       "<td>accepting new members, healthy</td></tr>\n",
       "<tr><td>H2O connection url:</td>\n",
       "<td>http://127.0.0.1:54321</td></tr>\n",
       "<tr><td>H2O connection proxy:</td>\n",
       "<td>None</td></tr>\n",
       "<tr><td>H2O internal security:</td>\n",
       "<td>False</td></tr>\n",
       "<tr><td>H2O API Extensions:</td>\n",
       "<td>XGBoost, Algos, AutoML, Core V3, Core V4</td></tr>\n",
       "<tr><td>Python version:</td>\n",
       "<td>3.6.4 final</td></tr></table></div>"
      ],
      "text/plain": [
       "--------------------------  ----------------------------------------\n",
       "H2O cluster uptime:         06 secs\n",
       "H2O cluster timezone:       America/New_York\n",
       "H2O data parsing timezone:  UTC\n",
       "H2O cluster version:        3.22.0.1\n",
       "H2O cluster version age:    9 days\n",
       "H2O cluster name:           H2O_from_python_oracle_hmofpm\n",
       "H2O cluster total nodes:    1\n",
       "H2O cluster free memory:    6.927 Gb\n",
       "H2O cluster total cores:    12\n",
       "H2O cluster allowed cores:  12\n",
       "H2O cluster status:         accepting new members, healthy\n",
       "H2O connection url:         http://127.0.0.1:54321\n",
       "H2O connection proxy:\n",
       "H2O internal security:      False\n",
       "H2O API Extensions:         XGBoost, Algos, AutoML, Core V3, Core V4\n",
       "Python version:             3.6.4 final\n",
       "--------------------------  ----------------------------------------"
      ]
     },
     "metadata": {},
     "output_type": "display_data"
    }
   ],
   "source": [
    "import h2o\n",
    "from h2o.automl import H2OAutoML\n",
    "\n",
    "h2o.init()"
   ]
  },
  {
   "cell_type": "code",
   "execution_count": 2,
   "metadata": {},
   "outputs": [
    {
     "name": "stdout",
     "output_type": "stream",
     "text": [
      "Parse progress: |█████████████████████████████████████████████████████████| 100%\n",
      "Parse progress: |█████████████████████████████████████████████████████████| 100%\n",
      "AutoML progress: |█████████████████████████████████████████████████████| 100%\n"
     ]
    },
    {
     "data": {
      "text/html": [
       "<table>\n",
       "<thead>\n",
       "<tr><th>model_id                                           </th><th style=\"text-align: right;\">     auc</th><th style=\"text-align: right;\">  logloss</th><th style=\"text-align: right;\">  mean_per_class_error</th><th style=\"text-align: right;\">    rmse</th><th style=\"text-align: right;\">     mse</th></tr>\n",
       "</thead>\n",
       "<tbody>\n",
       "<tr><td>StackedEnsemble_AllModels_AutoML_20181105_110218   </td><td style=\"text-align: right;\">0.789247</td><td style=\"text-align: right;\"> 0.552291</td><td style=\"text-align: right;\">              0.307033</td><td style=\"text-align: right;\">0.432461</td><td style=\"text-align: right;\">0.187022</td></tr>\n",
       "<tr><td>StackedEnsemble_BestOfFamily_AutoML_20181105_110218</td><td style=\"text-align: right;\">0.787703</td><td style=\"text-align: right;\"> 0.553932</td><td style=\"text-align: right;\">              0.308717</td><td style=\"text-align: right;\">0.433185</td><td style=\"text-align: right;\">0.187649</td></tr>\n",
       "<tr><td>XGBoost_grid_1_AutoML_20181105_110218_model_3      </td><td style=\"text-align: right;\">0.784674</td><td style=\"text-align: right;\"> 0.559172</td><td style=\"text-align: right;\">              0.318019</td><td style=\"text-align: right;\">0.435266</td><td style=\"text-align: right;\">0.189457</td></tr>\n",
       "<tr><td>XGBoost_grid_1_AutoML_20181105_110218_model_4      </td><td style=\"text-align: right;\">0.78436 </td><td style=\"text-align: right;\"> 0.557735</td><td style=\"text-align: right;\">              0.333439</td><td style=\"text-align: right;\">0.435017</td><td style=\"text-align: right;\">0.18924 </td></tr>\n",
       "<tr><td>XGBoost_1_AutoML_20181105_110218                   </td><td style=\"text-align: right;\">0.782482</td><td style=\"text-align: right;\"> 0.559651</td><td style=\"text-align: right;\">              0.329752</td><td style=\"text-align: right;\">0.435876</td><td style=\"text-align: right;\">0.189988</td></tr>\n",
       "<tr><td>GBM_5_AutoML_20181105_110218                       </td><td style=\"text-align: right;\">0.782347</td><td style=\"text-align: right;\"> 0.559473</td><td style=\"text-align: right;\">              0.333556</td><td style=\"text-align: right;\">0.435807</td><td style=\"text-align: right;\">0.189928</td></tr>\n",
       "<tr><td>XGBoost_3_AutoML_20181105_110218                   </td><td style=\"text-align: right;\">0.7819  </td><td style=\"text-align: right;\"> 0.559799</td><td style=\"text-align: right;\">              0.321968</td><td style=\"text-align: right;\">0.435985</td><td style=\"text-align: right;\">0.190083</td></tr>\n",
       "<tr><td>XGBoost_2_AutoML_20181105_110218                   </td><td style=\"text-align: right;\">0.781374</td><td style=\"text-align: right;\"> 0.559294</td><td style=\"text-align: right;\">              0.340889</td><td style=\"text-align: right;\">0.435952</td><td style=\"text-align: right;\">0.190054</td></tr>\n",
       "<tr><td>GBM_1_AutoML_20181105_110218                       </td><td style=\"text-align: right;\">0.779842</td><td style=\"text-align: right;\"> 0.561592</td><td style=\"text-align: right;\">              0.309057</td><td style=\"text-align: right;\">0.436758</td><td style=\"text-align: right;\">0.190758</td></tr>\n",
       "<tr><td>GBM_2_AutoML_20181105_110218                       </td><td style=\"text-align: right;\">0.778635</td><td style=\"text-align: right;\"> 0.561412</td><td style=\"text-align: right;\">              0.324663</td><td style=\"text-align: right;\">0.437127</td><td style=\"text-align: right;\">0.19108 </td></tr>\n",
       "<tr><td>GBM_3_AutoML_20181105_110218                       </td><td style=\"text-align: right;\">0.777631</td><td style=\"text-align: right;\"> 0.562628</td><td style=\"text-align: right;\">              0.337912</td><td style=\"text-align: right;\">0.437763</td><td style=\"text-align: right;\">0.191636</td></tr>\n",
       "<tr><td>XGBoost_grid_1_AutoML_20181105_110218_model_2      </td><td style=\"text-align: right;\">0.771179</td><td style=\"text-align: right;\"> 0.579973</td><td style=\"text-align: right;\">              0.340761</td><td style=\"text-align: right;\">0.444319</td><td style=\"text-align: right;\">0.197419</td></tr>\n",
       "<tr><td>GBM_4_AutoML_20181105_110218                       </td><td style=\"text-align: right;\">0.771155</td><td style=\"text-align: right;\"> 0.570623</td><td style=\"text-align: right;\">              0.337609</td><td style=\"text-align: right;\">0.441408</td><td style=\"text-align: right;\">0.194841</td></tr>\n",
       "<tr><td>GBM_grid_1_AutoML_20181105_110218_model_1          </td><td style=\"text-align: right;\">0.76906 </td><td style=\"text-align: right;\"> 0.573158</td><td style=\"text-align: right;\">              0.359105</td><td style=\"text-align: right;\">0.442739</td><td style=\"text-align: right;\">0.196018</td></tr>\n",
       "<tr><td>XGBoost_grid_1_AutoML_20181105_110218_model_1      </td><td style=\"text-align: right;\">0.7578  </td><td style=\"text-align: right;\"> 0.580767</td><td style=\"text-align: right;\">              0.351113</td><td style=\"text-align: right;\">0.446271</td><td style=\"text-align: right;\">0.199158</td></tr>\n",
       "<tr><td>GBM_grid_1_AutoML_20181105_110218_model_2          </td><td style=\"text-align: right;\">0.748925</td><td style=\"text-align: right;\"> 0.930704</td><td style=\"text-align: right;\">              0.353694</td><td style=\"text-align: right;\">0.500005</td><td style=\"text-align: right;\">0.250005</td></tr>\n",
       "<tr><td>DRF_1_AutoML_20181105_110218                       </td><td style=\"text-align: right;\">0.739196</td><td style=\"text-align: right;\"> 0.598263</td><td style=\"text-align: right;\">              0.371041</td><td style=\"text-align: right;\">0.454139</td><td style=\"text-align: right;\">0.206242</td></tr>\n",
       "<tr><td>XRT_1_AutoML_20181105_110218                       </td><td style=\"text-align: right;\">0.736349</td><td style=\"text-align: right;\"> 0.60009 </td><td style=\"text-align: right;\">              0.376941</td><td style=\"text-align: right;\">0.455183</td><td style=\"text-align: right;\">0.207191</td></tr>\n",
       "<tr><td>DeepLearning_grid_1_AutoML_20181105_110218_model_2 </td><td style=\"text-align: right;\">0.719052</td><td style=\"text-align: right;\"> 0.615647</td><td style=\"text-align: right;\">              0.381889</td><td style=\"text-align: right;\">0.461485</td><td style=\"text-align: right;\">0.212969</td></tr>\n",
       "<tr><td>DeepLearning_1_AutoML_20181105_110218              </td><td style=\"text-align: right;\">0.686939</td><td style=\"text-align: right;\"> 0.640179</td><td style=\"text-align: right;\">              0.412648</td><td style=\"text-align: right;\">0.472876</td><td style=\"text-align: right;\">0.223612</td></tr>\n",
       "<tr><td>GLM_grid_1_AutoML_20181105_110218_model_1          </td><td style=\"text-align: right;\">0.682766</td><td style=\"text-align: right;\"> 0.638944</td><td style=\"text-align: right;\">              0.396707</td><td style=\"text-align: right;\">0.472837</td><td style=\"text-align: right;\">0.223575</td></tr>\n",
       "<tr><td>DeepLearning_grid_1_AutoML_20181105_110218_model_1 </td><td style=\"text-align: right;\">0.674038</td><td style=\"text-align: right;\"> 0.69093 </td><td style=\"text-align: right;\">              0.416388</td><td style=\"text-align: right;\">0.487691</td><td style=\"text-align: right;\">0.237842</td></tr>\n",
       "</tbody>\n",
       "</table>"
      ]
     },
     "metadata": {},
     "output_type": "display_data"
    },
    {
     "data": {
      "text/plain": []
     },
     "execution_count": 2,
     "metadata": {},
     "output_type": "execute_result"
    }
   ],
   "source": [
    "# Import a sample binary outcome train/test set into H2O\n",
    "train = h2o.import_file(\"https://s3.amazonaws.com/erin-data/higgs/higgs_train_10k.csv\")\n",
    "test = h2o.import_file(\"https://s3.amazonaws.com/erin-data/higgs/higgs_test_5k.csv\")\n",
    "\n",
    "# Identify predictors and response\n",
    "x = train.columns\n",
    "y = \"response\"\n",
    "x.remove(y)\n",
    "\n",
    "# For binary classification, response should be a factor\n",
    "train[y] = train[y].asfactor()\n",
    "test[y] = test[y].asfactor()\n",
    "\n",
    "# Run AutoML for 20 base models (limited to 1 hour max runtime by default)\n",
    "aml = H2OAutoML(max_models=20, seed=1)\n",
    "aml.train(x=x, y=y, training_frame=train)\n",
    "\n",
    "# View the AutoML Leaderboard\n",
    "lb = aml.leaderboard\n",
    "lb.head(rows=lb.nrows)  # Print all rows instead of default (10 rows)"
   ]
  },
  {
   "cell_type": "code",
   "execution_count": 5,
   "metadata": {},
   "outputs": [
    {
     "name": "stdout",
     "output_type": "stream",
     "text": [
      "stackedensemble prediction progress: |████████████████████████████████████| 100%\n",
      "stackedensemble prediction progress: |████████████████████████████████████| 100%\n"
     ]
    },
    {
     "data": {
      "text/html": [
       "<table>\n",
       "<thead>\n",
       "<tr><th style=\"text-align: right;\">  predict</th><th style=\"text-align: right;\">      p0</th><th style=\"text-align: right;\">      p1</th></tr>\n",
       "</thead>\n",
       "<tbody>\n",
       "<tr><td style=\"text-align: right;\">        0</td><td style=\"text-align: right;\">0.765351</td><td style=\"text-align: right;\">0.234649</td></tr>\n",
       "<tr><td style=\"text-align: right;\">        0</td><td style=\"text-align: right;\">0.783022</td><td style=\"text-align: right;\">0.216978</td></tr>\n",
       "<tr><td style=\"text-align: right;\">        1</td><td style=\"text-align: right;\">0.585335</td><td style=\"text-align: right;\">0.414665</td></tr>\n",
       "<tr><td style=\"text-align: right;\">        1</td><td style=\"text-align: right;\">0.326434</td><td style=\"text-align: right;\">0.673566</td></tr>\n",
       "<tr><td style=\"text-align: right;\">        0</td><td style=\"text-align: right;\">0.721252</td><td style=\"text-align: right;\">0.278748</td></tr>\n",
       "<tr><td style=\"text-align: right;\">        1</td><td style=\"text-align: right;\">0.28633 </td><td style=\"text-align: right;\">0.71367 </td></tr>\n",
       "<tr><td style=\"text-align: right;\">        1</td><td style=\"text-align: right;\">0.311996</td><td style=\"text-align: right;\">0.688004</td></tr>\n",
       "<tr><td style=\"text-align: right;\">        1</td><td style=\"text-align: right;\">0.660576</td><td style=\"text-align: right;\">0.339424</td></tr>\n",
       "<tr><td style=\"text-align: right;\">        1</td><td style=\"text-align: right;\">0.559924</td><td style=\"text-align: right;\">0.440076</td></tr>\n",
       "<tr><td style=\"text-align: right;\">        0</td><td style=\"text-align: right;\">0.785194</td><td style=\"text-align: right;\">0.214806</td></tr>\n",
       "</tbody>\n",
       "</table>"
      ]
     },
     "metadata": {},
     "output_type": "display_data"
    },
    {
     "data": {
      "text/plain": []
     },
     "execution_count": 5,
     "metadata": {},
     "output_type": "execute_result"
    }
   ],
   "source": [
    "# The leader model is stored here\n",
    "aml.leader\n",
    "\n",
    "# If you need to generate predictions on a test set, you can make\n",
    "# predictions directly on the `\"H2OAutoML\"` object, or on the leader\n",
    "# model object directly\n",
    "\n",
    "preds = aml.predict(test)\n",
    "\n",
    "# or:\n",
    "preds = aml.leader.predict(test)\n",
    "\n",
    "preds.head()"
   ]
  },
  {
   "cell_type": "code",
   "execution_count": null,
   "metadata": {},
   "outputs": [],
   "source": []
  }
 ],
 "metadata": {
  "kernelspec": {
   "display_name": "Python 3",
   "language": "python",
   "name": "python3"
  },
  "language_info": {
   "codemirror_mode": {
    "name": "ipython",
    "version": 3
   },
   "file_extension": ".py",
   "mimetype": "text/x-python",
   "name": "python",
   "nbconvert_exporter": "python",
   "pygments_lexer": "ipython3",
   "version": "3.6.4"
  }
 },
 "nbformat": 4,
 "nbformat_minor": 2
}
