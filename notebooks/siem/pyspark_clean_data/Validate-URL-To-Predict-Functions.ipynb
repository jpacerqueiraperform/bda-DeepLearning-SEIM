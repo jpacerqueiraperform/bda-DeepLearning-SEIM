{
 "cells": [
  {
   "cell_type": "code",
   "execution_count": 17,
   "metadata": {},
   "outputs": [
    {
     "name": "stdout",
     "output_type": "stream",
     "text": [
      "www.goal.com/en-GB/domain\n",
      "www.goal.com/en-GB/domain\n",
      "1\n",
      "0\n"
     ]
    }
   ],
   "source": [
    "# UDF Functional DI Converstions \n",
    "# -----------------------------------------------------------------------------\n",
    "# -----------------------------------------------------------------------------\n",
    "## Transformation DI ynverified=1/0 FROM known\n",
    "def func_url_verified_known(var1):\n",
    "    if ( var1.lower()=='known'):\n",
    "        return 1\n",
    "    elif (var1.lower()=='unknown'):\n",
    "        return 0\n",
    "    else :\n",
    "        return 0\n",
    "# -----------------------------------------------------------------------------\n",
    "# -----------------------------------------------------------------------------\n",
    "## concat domain -'.' with uri\n",
    "def func_clean_url_append_uri(var1,var2):\n",
    "    start=var1.strip('.')\n",
    "    rst=start+\"/\"+str(var2).strip('/')\n",
    "    print(rst)\n",
    "    if rst[-1] == '/':rst = rst[:-1]\n",
    "    return rst   \n",
    "# -----------------------------------------------------------------------------\n",
    "# -----------------------------------------------------------------------------    \n",
    "#\n",
    "var1=\"www.goal.com.\"\n",
    "var2=\"/en-GB/domain/\"\n",
    "var3=func_clean_url_append_uri(var1,var2)\n",
    "print(var3)\n",
    "print(func_url_verified_known(\"Known\"))\n",
    "print(func_url_verified_known(\"UnKnown\"))"
   ]
  },
  {
   "cell_type": "code",
   "execution_count": null,
   "metadata": {},
   "outputs": [],
   "source": []
  },
  {
   "cell_type": "code",
   "execution_count": null,
   "metadata": {},
   "outputs": [],
   "source": []
  }
 ],
 "metadata": {
  "kernelspec": {
   "display_name": "Python 3",
   "language": "python",
   "name": "python3"
  },
  "language_info": {
   "codemirror_mode": {
    "name": "ipython",
    "version": 3
   },
   "file_extension": ".py",
   "mimetype": "text/x-python",
   "name": "python",
   "nbconvert_exporter": "python",
   "pygments_lexer": "ipython3",
   "version": "3.6.4"
  }
 },
 "nbformat": 4,
 "nbformat_minor": 2
}
