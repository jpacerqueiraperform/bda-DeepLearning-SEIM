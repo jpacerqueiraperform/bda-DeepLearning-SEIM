{
 "cells": [
  {
   "cell_type": "code",
   "execution_count": 4,
   "metadata": {},
   "outputs": [
    {
     "name": "stdout",
     "output_type": "stream",
     "text": [
      "Checking whether there is an H2O instance running at http://localhost:54321. connected.\n"
     ]
    },
    {
     "data": {
      "text/html": [
       "<div style=\"overflow:auto\"><table style=\"width:50%\"><tr><td>H2O cluster uptime:</td>\n",
       "<td>18 hours 15 mins</td></tr>\n",
       "<tr><td>H2O cluster timezone:</td>\n",
       "<td>UTC</td></tr>\n",
       "<tr><td>H2O data parsing timezone:</td>\n",
       "<td>UTC</td></tr>\n",
       "<tr><td>H2O cluster version:</td>\n",
       "<td>3.22.0.1</td></tr>\n",
       "<tr><td>H2O cluster version age:</td>\n",
       "<td>17 days </td></tr>\n",
       "<tr><td>H2O cluster name:</td>\n",
       "<td>H2O_from_python_siemanalyst_woo8vh</td></tr>\n",
       "<tr><td>H2O cluster total nodes:</td>\n",
       "<td>1</td></tr>\n",
       "<tr><td>H2O cluster free memory:</td>\n",
       "<td>4.564 Gb</td></tr>\n",
       "<tr><td>H2O cluster total cores:</td>\n",
       "<td>12</td></tr>\n",
       "<tr><td>H2O cluster allowed cores:</td>\n",
       "<td>12</td></tr>\n",
       "<tr><td>H2O cluster status:</td>\n",
       "<td>locked, healthy</td></tr>\n",
       "<tr><td>H2O connection url:</td>\n",
       "<td>http://localhost:54321</td></tr>\n",
       "<tr><td>H2O connection proxy:</td>\n",
       "<td>None</td></tr>\n",
       "<tr><td>H2O internal security:</td>\n",
       "<td>False</td></tr>\n",
       "<tr><td>H2O API Extensions:</td>\n",
       "<td>XGBoost, Algos, AutoML, Core V3, Core V4</td></tr>\n",
       "<tr><td>Python version:</td>\n",
       "<td>3.6.4 final</td></tr></table></div>"
      ],
      "text/plain": [
       "--------------------------  ----------------------------------------\n",
       "H2O cluster uptime:         18 hours 15 mins\n",
       "H2O cluster timezone:       UTC\n",
       "H2O data parsing timezone:  UTC\n",
       "H2O cluster version:        3.22.0.1\n",
       "H2O cluster version age:    17 days\n",
       "H2O cluster name:           H2O_from_python_siemanalyst_woo8vh\n",
       "H2O cluster total nodes:    1\n",
       "H2O cluster free memory:    4.564 Gb\n",
       "H2O cluster total cores:    12\n",
       "H2O cluster allowed cores:  12\n",
       "H2O cluster status:         locked, healthy\n",
       "H2O connection url:         http://localhost:54321\n",
       "H2O connection proxy:\n",
       "H2O internal security:      False\n",
       "H2O API Extensions:         XGBoost, Algos, AutoML, Core V3, Core V4\n",
       "Python version:             3.6.4 final\n",
       "--------------------------  ----------------------------------------"
      ]
     },
     "metadata": {},
     "output_type": "display_data"
    }
   ],
   "source": [
    "import h2o\n",
    "from h2o.automl import H2OAutoML\n",
    "\n",
    "h2o.init()"
   ]
  },
  {
   "cell_type": "code",
   "execution_count": 6,
   "metadata": {},
   "outputs": [
    {
     "name": "stdout",
     "output_type": "stream",
     "text": [
      "Parse progress: |█████████████████████████████████████████████████████████| 100%\n",
      "Parse progress: |█████████████████████████████████████████████████████████| 100%\n",
      "AutoML progress: |████████████████████████████████████████████████████████| 100%\n"
     ]
    },
    {
     "data": {
      "text/html": [
       "<table>\n",
       "<thead>\n",
       "<tr><th>model_id                                           </th><th style=\"text-align: right;\">     auc</th><th style=\"text-align: right;\">  logloss</th><th style=\"text-align: right;\">  mean_per_class_error</th><th style=\"text-align: right;\">    rmse</th><th style=\"text-align: right;\">     mse</th></tr>\n",
       "</thead>\n",
       "<tbody>\n",
       "<tr><td>StackedEnsemble_AllModels_AutoML_20181113_103202   </td><td style=\"text-align: right;\">0.78935 </td><td style=\"text-align: right;\"> 0.552111</td><td style=\"text-align: right;\">              0.312962</td><td style=\"text-align: right;\">0.432441</td><td style=\"text-align: right;\">0.187005</td></tr>\n",
       "<tr><td>StackedEnsemble_BestOfFamily_AutoML_20181113_103202</td><td style=\"text-align: right;\">0.787983</td><td style=\"text-align: right;\"> 0.553555</td><td style=\"text-align: right;\">              0.33571 </td><td style=\"text-align: right;\">0.433071</td><td style=\"text-align: right;\">0.187551</td></tr>\n",
       "<tr><td>XGBoost_grid_1_AutoML_20181113_103202_model_3      </td><td style=\"text-align: right;\">0.784674</td><td style=\"text-align: right;\"> 0.559172</td><td style=\"text-align: right;\">              0.318019</td><td style=\"text-align: right;\">0.435266</td><td style=\"text-align: right;\">0.189457</td></tr>\n",
       "<tr><td>XGBoost_grid_1_AutoML_20181113_103202_model_4      </td><td style=\"text-align: right;\">0.78436 </td><td style=\"text-align: right;\"> 0.557735</td><td style=\"text-align: right;\">              0.333439</td><td style=\"text-align: right;\">0.435017</td><td style=\"text-align: right;\">0.18924 </td></tr>\n",
       "<tr><td>XGBoost_1_AutoML_20181113_103202                   </td><td style=\"text-align: right;\">0.782482</td><td style=\"text-align: right;\"> 0.559651</td><td style=\"text-align: right;\">              0.329752</td><td style=\"text-align: right;\">0.435876</td><td style=\"text-align: right;\">0.189988</td></tr>\n",
       "<tr><td>GBM_5_AutoML_20181113_103202                       </td><td style=\"text-align: right;\">0.782347</td><td style=\"text-align: right;\"> 0.559473</td><td style=\"text-align: right;\">              0.333556</td><td style=\"text-align: right;\">0.435807</td><td style=\"text-align: right;\">0.189928</td></tr>\n",
       "<tr><td>XGBoost_3_AutoML_20181113_103202                   </td><td style=\"text-align: right;\">0.7819  </td><td style=\"text-align: right;\"> 0.559799</td><td style=\"text-align: right;\">              0.321968</td><td style=\"text-align: right;\">0.435985</td><td style=\"text-align: right;\">0.190083</td></tr>\n",
       "<tr><td>XGBoost_2_AutoML_20181113_103202                   </td><td style=\"text-align: right;\">0.781374</td><td style=\"text-align: right;\"> 0.559294</td><td style=\"text-align: right;\">              0.340889</td><td style=\"text-align: right;\">0.435952</td><td style=\"text-align: right;\">0.190054</td></tr>\n",
       "<tr><td>GBM_1_AutoML_20181113_103202                       </td><td style=\"text-align: right;\">0.779842</td><td style=\"text-align: right;\"> 0.561592</td><td style=\"text-align: right;\">              0.309057</td><td style=\"text-align: right;\">0.436758</td><td style=\"text-align: right;\">0.190758</td></tr>\n",
       "<tr><td>GBM_2_AutoML_20181113_103202                       </td><td style=\"text-align: right;\">0.778635</td><td style=\"text-align: right;\"> 0.561412</td><td style=\"text-align: right;\">              0.324663</td><td style=\"text-align: right;\">0.437127</td><td style=\"text-align: right;\">0.19108 </td></tr>\n",
       "<tr><td>GBM_3_AutoML_20181113_103202                       </td><td style=\"text-align: right;\">0.777631</td><td style=\"text-align: right;\"> 0.562628</td><td style=\"text-align: right;\">              0.337912</td><td style=\"text-align: right;\">0.437763</td><td style=\"text-align: right;\">0.191636</td></tr>\n",
       "<tr><td>XGBoost_grid_1_AutoML_20181113_103202_model_2      </td><td style=\"text-align: right;\">0.771179</td><td style=\"text-align: right;\"> 0.579973</td><td style=\"text-align: right;\">              0.340761</td><td style=\"text-align: right;\">0.444319</td><td style=\"text-align: right;\">0.197419</td></tr>\n",
       "<tr><td>GBM_4_AutoML_20181113_103202                       </td><td style=\"text-align: right;\">0.771155</td><td style=\"text-align: right;\"> 0.570623</td><td style=\"text-align: right;\">              0.337609</td><td style=\"text-align: right;\">0.441408</td><td style=\"text-align: right;\">0.194841</td></tr>\n",
       "<tr><td>GBM_grid_1_AutoML_20181113_103202_model_1          </td><td style=\"text-align: right;\">0.76906 </td><td style=\"text-align: right;\"> 0.573158</td><td style=\"text-align: right;\">              0.359105</td><td style=\"text-align: right;\">0.442739</td><td style=\"text-align: right;\">0.196018</td></tr>\n",
       "<tr><td>GBM_grid_1_AutoML_20181113_103202_model_2          </td><td style=\"text-align: right;\">0.748925</td><td style=\"text-align: right;\"> 0.930704</td><td style=\"text-align: right;\">              0.353694</td><td style=\"text-align: right;\">0.500005</td><td style=\"text-align: right;\">0.250005</td></tr>\n",
       "<tr><td>DRF_1_AutoML_20181113_103202                       </td><td style=\"text-align: right;\">0.734659</td><td style=\"text-align: right;\"> 0.60155 </td><td style=\"text-align: right;\">              0.371266</td><td style=\"text-align: right;\">0.455708</td><td style=\"text-align: right;\">0.20767 </td></tr>\n",
       "<tr><td>XRT_1_AutoML_20181113_103202                       </td><td style=\"text-align: right;\">0.727315</td><td style=\"text-align: right;\"> 0.605784</td><td style=\"text-align: right;\">              0.368181</td><td style=\"text-align: right;\">0.458104</td><td style=\"text-align: right;\">0.209859</td></tr>\n",
       "<tr><td>DeepLearning_grid_1_AutoML_20181113_103202_model_2 </td><td style=\"text-align: right;\">0.72198 </td><td style=\"text-align: right;\"> 0.611578</td><td style=\"text-align: right;\">              0.383654</td><td style=\"text-align: right;\">0.460107</td><td style=\"text-align: right;\">0.211699</td></tr>\n",
       "<tr><td>XGBoost_grid_1_AutoML_20181113_103202_model_1      </td><td style=\"text-align: right;\">0.701403</td><td style=\"text-align: right;\"> 0.615431</td><td style=\"text-align: right;\">              0.396716</td><td style=\"text-align: right;\">0.463421</td><td style=\"text-align: right;\">0.214759</td></tr>\n",
       "<tr><td>DeepLearning_1_AutoML_20181113_103202              </td><td style=\"text-align: right;\">0.689588</td><td style=\"text-align: right;\"> 0.637865</td><td style=\"text-align: right;\">              0.414912</td><td style=\"text-align: right;\">0.47195 </td><td style=\"text-align: right;\">0.222737</td></tr>\n",
       "<tr><td>GLM_grid_1_AutoML_20181113_103202_model_1          </td><td style=\"text-align: right;\">0.682766</td><td style=\"text-align: right;\"> 0.638944</td><td style=\"text-align: right;\">              0.396707</td><td style=\"text-align: right;\">0.472837</td><td style=\"text-align: right;\">0.223575</td></tr>\n",
       "<tr><td>DeepLearning_grid_1_AutoML_20181113_103202_model_1 </td><td style=\"text-align: right;\">0.668721</td><td style=\"text-align: right;\"> 0.680701</td><td style=\"text-align: right;\">              0.425402</td><td style=\"text-align: right;\">0.485177</td><td style=\"text-align: right;\">0.235397</td></tr>\n",
       "</tbody>\n",
       "</table>"
      ]
     },
     "metadata": {},
     "output_type": "display_data"
    },
    {
     "data": {
      "text/plain": []
     },
     "execution_count": 6,
     "metadata": {},
     "output_type": "execute_result"
    }
   ],
   "source": [
    "# Import a sample binary outcome train/test set into H2O\n",
    "#train = h2o.import_file(\"https://s3.amazonaws.com/erin-data/higgs/higgs_train_10k.csv\")\n",
    "#test = h2o.import_file(\"https://s3.amazonaws.com/erin-data/higgs/higgs_test_5k.csv\")\n",
    "train = h2o.import_file(\"/home/siemanalyst/notebooks/siem/higgs_train_10k.csv\")\n",
    "test = h2o.import_file(\"/home/siemanalyst/notebooks/siem/higgs_test_5k.csv\")\n",
    "\n",
    "# Identify predictors and response\n",
    "x = train.columns\n",
    "y = \"response\"\n",
    "x.remove(y)\n",
    "\n",
    "# For binary classification, response should be a factor\n",
    "train[y] = train[y].asfactor()\n",
    "test[y] = test[y].asfactor()\n",
    "\n",
    "# Run AutoML for 20 base models (limited to 1 hour max runtime by default)\n",
    "aml = H2OAutoML(max_models=20, seed=1)\n",
    "aml.train(x=x, y=y, training_frame=train)\n",
    "\n",
    "# View the AutoML Leaderboard\n",
    "lb = aml.leaderboard\n",
    "lb.head(rows=lb.nrows)  # Print all rows instead of default (10 rows)"
   ]
  },
  {
   "cell_type": "code",
   "execution_count": 5,
   "metadata": {},
   "outputs": [
    {
     "name": "stdout",
     "output_type": "stream",
     "text": [
      "stackedensemble prediction progress: |████████████████████████████████████| 100%\n",
      "stackedensemble prediction progress: |████████████████████████████████████| 100%\n"
     ]
    },
    {
     "data": {
      "text/html": [
       "<table>\n",
       "<thead>\n",
       "<tr><th style=\"text-align: right;\">  predict</th><th style=\"text-align: right;\">      p0</th><th style=\"text-align: right;\">      p1</th></tr>\n",
       "</thead>\n",
       "<tbody>\n",
       "<tr><td style=\"text-align: right;\">        0</td><td style=\"text-align: right;\">0.765351</td><td style=\"text-align: right;\">0.234649</td></tr>\n",
       "<tr><td style=\"text-align: right;\">        0</td><td style=\"text-align: right;\">0.783022</td><td style=\"text-align: right;\">0.216978</td></tr>\n",
       "<tr><td style=\"text-align: right;\">        1</td><td style=\"text-align: right;\">0.585335</td><td style=\"text-align: right;\">0.414665</td></tr>\n",
       "<tr><td style=\"text-align: right;\">        1</td><td style=\"text-align: right;\">0.326434</td><td style=\"text-align: right;\">0.673566</td></tr>\n",
       "<tr><td style=\"text-align: right;\">        0</td><td style=\"text-align: right;\">0.721252</td><td style=\"text-align: right;\">0.278748</td></tr>\n",
       "<tr><td style=\"text-align: right;\">        1</td><td style=\"text-align: right;\">0.28633 </td><td style=\"text-align: right;\">0.71367 </td></tr>\n",
       "<tr><td style=\"text-align: right;\">        1</td><td style=\"text-align: right;\">0.311996</td><td style=\"text-align: right;\">0.688004</td></tr>\n",
       "<tr><td style=\"text-align: right;\">        1</td><td style=\"text-align: right;\">0.660576</td><td style=\"text-align: right;\">0.339424</td></tr>\n",
       "<tr><td style=\"text-align: right;\">        1</td><td style=\"text-align: right;\">0.559924</td><td style=\"text-align: right;\">0.440076</td></tr>\n",
       "<tr><td style=\"text-align: right;\">        0</td><td style=\"text-align: right;\">0.785194</td><td style=\"text-align: right;\">0.214806</td></tr>\n",
       "</tbody>\n",
       "</table>"
      ]
     },
     "metadata": {},
     "output_type": "display_data"
    },
    {
     "data": {
      "text/plain": []
     },
     "execution_count": 5,
     "metadata": {},
     "output_type": "execute_result"
    }
   ],
   "source": [
    "# The leader model is stored here\n",
    "aml.leader\n",
    "\n",
    "# If you need to generate predictions on a test set, you can make\n",
    "# predictions directly on the `\"H2OAutoML\"` object, or on the leader\n",
    "# model object directly\n",
    "\n",
    "preds = aml.predict(test)\n",
    "\n",
    "# or:\n",
    "preds = aml.leader.predict(test)\n",
    "\n",
    "preds.head()"
   ]
  },
  {
   "cell_type": "code",
   "execution_count": null,
   "metadata": {},
   "outputs": [],
   "source": []
  }
 ],
 "metadata": {
  "kernelspec": {
   "display_name": "Python 3",
   "language": "python",
   "name": "python3"
  },
  "language_info": {
   "codemirror_mode": {
    "name": "ipython",
    "version": 3
   },
   "file_extension": ".py",
   "mimetype": "text/x-python",
   "name": "python",
   "nbconvert_exporter": "python",
   "pygments_lexer": "ipython3",
   "version": "3.6.4"
  }
 },
 "nbformat": 4,
 "nbformat_minor": 2
}
